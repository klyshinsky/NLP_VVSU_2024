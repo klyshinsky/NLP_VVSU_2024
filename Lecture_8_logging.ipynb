{
 "cells": [
  {
   "cell_type": "markdown",
   "metadata": {},
   "source": [
    "## Работа с файлами конфигурации\n",
    "\n",
    "Документация на [ConfigParser](https://docs.python.org/3/library/configparser.html)."
   ]
  },
  {
   "cell_type": "code",
   "execution_count": 1,
   "metadata": {},
   "outputs": [],
   "source": [
    "import configparser"
   ]
  },
  {
   "cell_type": "code",
   "execution_count": 5,
   "metadata": {},
   "outputs": [],
   "source": [
    "config = configparser.ConfigParser()\n",
    "config[\"DEFAULT\"] = {\n",
    "    \"ServerAliveInterval\": \"45\",\n",
    "    \"Compression\": \"yes\",\n",
    "    \"CompressionLevel\": \"9\",\n",
    "}\n",
    "config[\"bitbucket.org\"] = {}\n",
    "config[\"bitbucket.org\"][\"User\"] = \"hg\"\n",
    "config[\"topsecret.server.com\"] = {}\n",
    "topsecret = config[\"topsecret.server.com\"]\n",
    "topsecret[\"Port\"] = \"50022\"\n",
    "topsecret[\"Port2\"] = \"500221\"\n",
    "topsecret[\"ForwardX11\"] = \"no\"\n",
    "config[\"DEFAULT\"][\"ForwardX11\"] = \"yes\"\n",
    "with open(\"data/example.ini\", \"w\") as configfile:\n",
    "    config.write(configfile)"
   ]
  },
  {
   "cell_type": "code",
   "execution_count": 6,
   "metadata": {},
   "outputs": [
    {
     "name": "stdout",
     "output_type": "stream",
     "text": [
      "[DEFAULT]\n",
      "serveraliveinterval = 45\n",
      "compression = yes\n",
      "compressionlevel = 9\n",
      "forwardx11 = yes\n",
      "\n",
      "[bitbucket.org]\n",
      "user = hg\n",
      "\n",
      "[topsecret.server.com]\n",
      "port = 50022\n",
      "port2 = 500221\n",
      "forwardx11 = no\n",
      "\n"
     ]
    }
   ],
   "source": [
    "%cat data/example.ini\n",
    "# ! rm data/example.ini"
   ]
  },
  {
   "cell_type": "code",
   "execution_count": 4,
   "metadata": {},
   "outputs": [
    {
     "name": "stdout",
     "output_type": "stream",
     "text": [
      "Sections: ['bitbucket.org', 'topsecret.server.com']\n",
      "If 'bitbucket.org' section is here: True\n",
      "If 'bitbucket.com' section is here: False\n",
      "bitbucket.org - User value: hg\n",
      "DEFAULT - Compression value: yes\n",
      "topsecret.server.com - ForwardX11 no\n",
      "bitbucket.org keys and values\n",
      "    user                : hg\n",
      "    serveraliveinterval : 45\n",
      "    compression         : yes\n",
      "    compressionlevel    : 9\n",
      "    forwardx11          : yes\n"
     ]
    }
   ],
   "source": [
    "config = configparser.ConfigParser()\n",
    "config.read('data/example.ini')\n",
    "print(\"Sections:\", config.sections())\n",
    "print(\"If 'bitbucket.org' section is here:\", 'bitbucket.org' in config)\n",
    "print(\"If 'bitbucket.com' section is here:\", 'bitbucket.com' in config)\n",
    "print(\"bitbucket.org - User value:\", config['bitbucket.org']['User'])\n",
    "print(\"DEFAULT - Compression value:\", config['DEFAULT']['Compression'])\n",
    "topsecret = config['topsecret.server.com']\n",
    "print(\"topsecret.server.com - ForwardX11\", topsecret['ForwardX11'])\n",
    "print(\"bitbucket.org keys and values\")\n",
    "for key in config['bitbucket.org']:\n",
    "    print(f\"    {key:20}: {config['bitbucket.org'][key]}\")\n"
   ]
  },
  {
   "cell_type": "code",
   "execution_count": 5,
   "metadata": {},
   "outputs": [
    {
     "name": "stdout",
     "output_type": "stream",
     "text": [
      "getting values:  yes 500221\n"
     ]
    }
   ],
   "source": [
    "config = configparser.ConfigParser()\n",
    "\n",
    "#config.add_section(\"DEFAULT\")\n",
    "config.set(\"DEFAULT\", \"serveraliveinterval\", \"55\")\n",
    "config.set(\"DEFAULT\", \"compression\", \"yes\")\n",
    "config.set(\"DEFAULT\", \"compressionlevel\", \"9\")\n",
    "config.set(\"DEFAULT\", \"forwardx11\", \"yes\")\n",
    "config.add_section(\"bitbucket.org\")\n",
    "config.set(\"bitbucket.org\", \"user\", \"hg\")\n",
    "config.add_section(\"topsecret.server.com\")\n",
    "config.set(\"topsecret.server.com\", \"port\", \"500221\")\n",
    "config.set(\"topsecret.server.com\", \"forwardx11\", \"no\")\n",
    "\n",
    "with open(\"data/example.ini\", \"w\") as config_file:\n",
    "    config.write(config_file)\n",
    "    \n",
    "print(\"getting values: \", config.get(\"DEFAULT\", \"compression\"),\n",
    "      config.get(\"topsecret.server.com\", \"port\"))"
   ]
  },
  {
   "cell_type": "code",
   "execution_count": 6,
   "metadata": {},
   "outputs": [
    {
     "name": "stdout",
     "output_type": "stream",
     "text": [
      "[DEFAULT]\r\n",
      "serveraliveinterval = 55\r\n",
      "compression = yes\r\n",
      "compressionlevel = 9\r\n",
      "forwardx11 = yes\r\n",
      "\r\n",
      "[bitbucket.org]\r\n",
      "user = hg\r\n",
      "\r\n",
      "[topsecret.server.com]\r\n",
      "port = 500221\r\n",
      "forwardx11 = no\r\n",
      "\r\n"
     ]
    }
   ],
   "source": [
    "%cat data/example.ini"
   ]
  },
  {
   "cell_type": "markdown",
   "metadata": {},
   "source": [
    "Все значения должны иметь строковый тип."
   ]
  },
  {
   "cell_type": "code",
   "execution_count": 7,
   "metadata": {},
   "outputs": [
    {
     "ename": "TypeError",
     "evalue": "option values must be strings",
     "output_type": "error",
     "traceback": [
      "\u001b[0;31m---------------------------------------------------------------------------\u001b[0m",
      "\u001b[0;31mTypeError\u001b[0m                                 Traceback (most recent call last)",
      "\u001b[0;32m/tmp/ipykernel_1227590/504641927.py\u001b[0m in \u001b[0;36m<module>\u001b[0;34m\u001b[0m\n\u001b[0;32m----> 1\u001b[0;31m \u001b[0mconfig\u001b[0m\u001b[0;34m.\u001b[0m\u001b[0mset\u001b[0m\u001b[0;34m(\u001b[0m\u001b[0;34m\"DEFAULT\"\u001b[0m\u001b[0;34m,\u001b[0m \u001b[0;34m\"serveraliveinterval\"\u001b[0m\u001b[0;34m,\u001b[0m \u001b[0;36m55\u001b[0m\u001b[0;34m)\u001b[0m\u001b[0;34m\u001b[0m\u001b[0;34m\u001b[0m\u001b[0m\n\u001b[0m",
      "\u001b[0;32m/usr/lib/python3.9/configparser.py\u001b[0m in \u001b[0;36mset\u001b[0;34m(self, section, option, value)\u001b[0m\n\u001b[1;32m   1198\u001b[0m         \"\"\"Set an option.  Extends RawConfigParser.set by validating type and\n\u001b[1;32m   1199\u001b[0m         interpolation syntax on the value.\"\"\"\n\u001b[0;32m-> 1200\u001b[0;31m         \u001b[0mself\u001b[0m\u001b[0;34m.\u001b[0m\u001b[0m_validate_value_types\u001b[0m\u001b[0;34m(\u001b[0m\u001b[0moption\u001b[0m\u001b[0;34m=\u001b[0m\u001b[0moption\u001b[0m\u001b[0;34m,\u001b[0m \u001b[0mvalue\u001b[0m\u001b[0;34m=\u001b[0m\u001b[0mvalue\u001b[0m\u001b[0;34m)\u001b[0m\u001b[0;34m\u001b[0m\u001b[0;34m\u001b[0m\u001b[0m\n\u001b[0m\u001b[1;32m   1201\u001b[0m         \u001b[0msuper\u001b[0m\u001b[0;34m(\u001b[0m\u001b[0;34m)\u001b[0m\u001b[0;34m.\u001b[0m\u001b[0mset\u001b[0m\u001b[0;34m(\u001b[0m\u001b[0msection\u001b[0m\u001b[0;34m,\u001b[0m \u001b[0moption\u001b[0m\u001b[0;34m,\u001b[0m \u001b[0mvalue\u001b[0m\u001b[0;34m)\u001b[0m\u001b[0;34m\u001b[0m\u001b[0;34m\u001b[0m\u001b[0m\n\u001b[1;32m   1202\u001b[0m \u001b[0;34m\u001b[0m\u001b[0m\n",
      "\u001b[0;32m/usr/lib/python3.9/configparser.py\u001b[0m in \u001b[0;36m_validate_value_types\u001b[0;34m(self, section, option, value)\u001b[0m\n\u001b[1;32m   1183\u001b[0m         \u001b[0;32mif\u001b[0m \u001b[0;32mnot\u001b[0m \u001b[0mself\u001b[0m\u001b[0;34m.\u001b[0m\u001b[0m_allow_no_value\u001b[0m \u001b[0;32mor\u001b[0m \u001b[0mvalue\u001b[0m\u001b[0;34m:\u001b[0m\u001b[0;34m\u001b[0m\u001b[0;34m\u001b[0m\u001b[0m\n\u001b[1;32m   1184\u001b[0m             \u001b[0;32mif\u001b[0m \u001b[0;32mnot\u001b[0m \u001b[0misinstance\u001b[0m\u001b[0;34m(\u001b[0m\u001b[0mvalue\u001b[0m\u001b[0;34m,\u001b[0m \u001b[0mstr\u001b[0m\u001b[0;34m)\u001b[0m\u001b[0;34m:\u001b[0m\u001b[0;34m\u001b[0m\u001b[0;34m\u001b[0m\u001b[0m\n\u001b[0;32m-> 1185\u001b[0;31m                 \u001b[0;32mraise\u001b[0m \u001b[0mTypeError\u001b[0m\u001b[0;34m(\u001b[0m\u001b[0;34m\"option values must be strings\"\u001b[0m\u001b[0;34m)\u001b[0m\u001b[0;34m\u001b[0m\u001b[0;34m\u001b[0m\u001b[0m\n\u001b[0m\u001b[1;32m   1186\u001b[0m \u001b[0;34m\u001b[0m\u001b[0m\n\u001b[1;32m   1187\u001b[0m     \u001b[0;34m@\u001b[0m\u001b[0mproperty\u001b[0m\u001b[0;34m\u001b[0m\u001b[0;34m\u001b[0m\u001b[0m\n",
      "\u001b[0;31mTypeError\u001b[0m: option values must be strings"
     ]
    }
   ],
   "source": [
    "config.set(\"DEFAULT\", \"serveraliveinterval\", 55)"
   ]
  },
  {
   "cell_type": "markdown",
   "metadata": {},
   "source": [
    "Секция DEFAULT должна указываться явно."
   ]
  },
  {
   "cell_type": "code",
   "execution_count": 8,
   "metadata": {},
   "outputs": [
    {
     "ename": "TypeError",
     "evalue": "option values must be strings",
     "output_type": "error",
     "traceback": [
      "\u001b[0;31m---------------------------------------------------------------------------\u001b[0m",
      "\u001b[0;31mTypeError\u001b[0m                                 Traceback (most recent call last)",
      "\u001b[0;32m/tmp/ipykernel_1227590/1913591880.py\u001b[0m in \u001b[0;36m<module>\u001b[0;34m\u001b[0m\n\u001b[0;32m----> 1\u001b[0;31m \u001b[0mconfig\u001b[0m\u001b[0;34m.\u001b[0m\u001b[0mset\u001b[0m\u001b[0;34m(\u001b[0m\u001b[0;34m\"serveraliveinterval\"\u001b[0m\u001b[0;34m,\u001b[0m \u001b[0;34m\"55\"\u001b[0m\u001b[0;34m)\u001b[0m\u001b[0;34m\u001b[0m\u001b[0;34m\u001b[0m\u001b[0m\n\u001b[0m",
      "\u001b[0;32m/usr/lib/python3.9/configparser.py\u001b[0m in \u001b[0;36mset\u001b[0;34m(self, section, option, value)\u001b[0m\n\u001b[1;32m   1198\u001b[0m         \"\"\"Set an option.  Extends RawConfigParser.set by validating type and\n\u001b[1;32m   1199\u001b[0m         interpolation syntax on the value.\"\"\"\n\u001b[0;32m-> 1200\u001b[0;31m         \u001b[0mself\u001b[0m\u001b[0;34m.\u001b[0m\u001b[0m_validate_value_types\u001b[0m\u001b[0;34m(\u001b[0m\u001b[0moption\u001b[0m\u001b[0;34m=\u001b[0m\u001b[0moption\u001b[0m\u001b[0;34m,\u001b[0m \u001b[0mvalue\u001b[0m\u001b[0;34m=\u001b[0m\u001b[0mvalue\u001b[0m\u001b[0;34m)\u001b[0m\u001b[0;34m\u001b[0m\u001b[0;34m\u001b[0m\u001b[0m\n\u001b[0m\u001b[1;32m   1201\u001b[0m         \u001b[0msuper\u001b[0m\u001b[0;34m(\u001b[0m\u001b[0;34m)\u001b[0m\u001b[0;34m.\u001b[0m\u001b[0mset\u001b[0m\u001b[0;34m(\u001b[0m\u001b[0msection\u001b[0m\u001b[0;34m,\u001b[0m \u001b[0moption\u001b[0m\u001b[0;34m,\u001b[0m \u001b[0mvalue\u001b[0m\u001b[0;34m)\u001b[0m\u001b[0;34m\u001b[0m\u001b[0;34m\u001b[0m\u001b[0m\n\u001b[1;32m   1202\u001b[0m \u001b[0;34m\u001b[0m\u001b[0m\n",
      "\u001b[0;32m/usr/lib/python3.9/configparser.py\u001b[0m in \u001b[0;36m_validate_value_types\u001b[0;34m(self, section, option, value)\u001b[0m\n\u001b[1;32m   1183\u001b[0m         \u001b[0;32mif\u001b[0m \u001b[0;32mnot\u001b[0m \u001b[0mself\u001b[0m\u001b[0;34m.\u001b[0m\u001b[0m_allow_no_value\u001b[0m \u001b[0;32mor\u001b[0m \u001b[0mvalue\u001b[0m\u001b[0;34m:\u001b[0m\u001b[0;34m\u001b[0m\u001b[0;34m\u001b[0m\u001b[0m\n\u001b[1;32m   1184\u001b[0m             \u001b[0;32mif\u001b[0m \u001b[0;32mnot\u001b[0m \u001b[0misinstance\u001b[0m\u001b[0;34m(\u001b[0m\u001b[0mvalue\u001b[0m\u001b[0;34m,\u001b[0m \u001b[0mstr\u001b[0m\u001b[0;34m)\u001b[0m\u001b[0;34m:\u001b[0m\u001b[0;34m\u001b[0m\u001b[0;34m\u001b[0m\u001b[0m\n\u001b[0;32m-> 1185\u001b[0;31m                 \u001b[0;32mraise\u001b[0m \u001b[0mTypeError\u001b[0m\u001b[0;34m(\u001b[0m\u001b[0;34m\"option values must be strings\"\u001b[0m\u001b[0;34m)\u001b[0m\u001b[0;34m\u001b[0m\u001b[0;34m\u001b[0m\u001b[0m\n\u001b[0m\u001b[1;32m   1186\u001b[0m \u001b[0;34m\u001b[0m\u001b[0m\n\u001b[1;32m   1187\u001b[0m     \u001b[0;34m@\u001b[0m\u001b[0mproperty\u001b[0m\u001b[0;34m\u001b[0m\u001b[0;34m\u001b[0m\u001b[0m\n",
      "\u001b[0;31mTypeError\u001b[0m: option values must be strings"
     ]
    }
   ],
   "source": [
    "config.set(\"serveraliveinterval\", \"55\")\n"
   ]
  },
  {
   "cell_type": "markdown",
   "metadata": {},
   "source": [
    "Секция DEFAULT должна указываться явно даже при чтении."
   ]
  },
  {
   "cell_type": "code",
   "execution_count": 9,
   "metadata": {},
   "outputs": [
    {
     "ename": "NoSectionError",
     "evalue": "No section: 'serveraliveinterval'",
     "output_type": "error",
     "traceback": [
      "\u001b[0;31m---------------------------------------------------------------------------\u001b[0m",
      "\u001b[0;31mNoSectionError\u001b[0m                            Traceback (most recent call last)",
      "\u001b[0;32m/tmp/ipykernel_1227590/2843896434.py\u001b[0m in \u001b[0;36m<module>\u001b[0;34m\u001b[0m\n\u001b[0;32m----> 1\u001b[0;31m \u001b[0mconfig\u001b[0m\u001b[0;34m.\u001b[0m\u001b[0mget\u001b[0m\u001b[0;34m(\u001b[0m\u001b[0;34m\"serveraliveinterval\"\u001b[0m\u001b[0;34m,\u001b[0m \u001b[0;34m\"55\"\u001b[0m\u001b[0;34m)\u001b[0m\u001b[0;34m\u001b[0m\u001b[0;34m\u001b[0m\u001b[0m\n\u001b[0m",
      "\u001b[0;32m/usr/lib/python3.9/configparser.py\u001b[0m in \u001b[0;36mget\u001b[0;34m(self, section, option, raw, vars, fallback)\u001b[0m\n\u001b[1;32m    779\u001b[0m         \"\"\"\n\u001b[1;32m    780\u001b[0m         \u001b[0;32mtry\u001b[0m\u001b[0;34m:\u001b[0m\u001b[0;34m\u001b[0m\u001b[0;34m\u001b[0m\u001b[0m\n\u001b[0;32m--> 781\u001b[0;31m             \u001b[0md\u001b[0m \u001b[0;34m=\u001b[0m \u001b[0mself\u001b[0m\u001b[0;34m.\u001b[0m\u001b[0m_unify_values\u001b[0m\u001b[0;34m(\u001b[0m\u001b[0msection\u001b[0m\u001b[0;34m,\u001b[0m \u001b[0mvars\u001b[0m\u001b[0;34m)\u001b[0m\u001b[0;34m\u001b[0m\u001b[0;34m\u001b[0m\u001b[0m\n\u001b[0m\u001b[1;32m    782\u001b[0m         \u001b[0;32mexcept\u001b[0m \u001b[0mNoSectionError\u001b[0m\u001b[0;34m:\u001b[0m\u001b[0;34m\u001b[0m\u001b[0;34m\u001b[0m\u001b[0m\n\u001b[1;32m    783\u001b[0m             \u001b[0;32mif\u001b[0m \u001b[0mfallback\u001b[0m \u001b[0;32mis\u001b[0m \u001b[0m_UNSET\u001b[0m\u001b[0;34m:\u001b[0m\u001b[0;34m\u001b[0m\u001b[0;34m\u001b[0m\u001b[0m\n",
      "\u001b[0;32m/usr/lib/python3.9/configparser.py\u001b[0m in \u001b[0;36m_unify_values\u001b[0;34m(self, section, vars)\u001b[0m\n\u001b[1;32m   1147\u001b[0m         \u001b[0;32mexcept\u001b[0m \u001b[0mKeyError\u001b[0m\u001b[0;34m:\u001b[0m\u001b[0;34m\u001b[0m\u001b[0;34m\u001b[0m\u001b[0m\n\u001b[1;32m   1148\u001b[0m             \u001b[0;32mif\u001b[0m \u001b[0msection\u001b[0m \u001b[0;34m!=\u001b[0m \u001b[0mself\u001b[0m\u001b[0;34m.\u001b[0m\u001b[0mdefault_section\u001b[0m\u001b[0;34m:\u001b[0m\u001b[0;34m\u001b[0m\u001b[0;34m\u001b[0m\u001b[0m\n\u001b[0;32m-> 1149\u001b[0;31m                 \u001b[0;32mraise\u001b[0m \u001b[0mNoSectionError\u001b[0m\u001b[0;34m(\u001b[0m\u001b[0msection\u001b[0m\u001b[0;34m)\u001b[0m \u001b[0;32mfrom\u001b[0m \u001b[0;32mNone\u001b[0m\u001b[0;34m\u001b[0m\u001b[0;34m\u001b[0m\u001b[0m\n\u001b[0m\u001b[1;32m   1150\u001b[0m         \u001b[0;31m# Update with the entry specific variables\u001b[0m\u001b[0;34m\u001b[0m\u001b[0;34m\u001b[0m\u001b[0;34m\u001b[0m\u001b[0m\n\u001b[1;32m   1151\u001b[0m         \u001b[0mvardict\u001b[0m \u001b[0;34m=\u001b[0m \u001b[0;34m{\u001b[0m\u001b[0;34m}\u001b[0m\u001b[0;34m\u001b[0m\u001b[0;34m\u001b[0m\u001b[0m\n",
      "\u001b[0;31mNoSectionError\u001b[0m: No section: 'serveraliveinterval'"
     ]
    }
   ],
   "source": [
    "config.get(\"serveraliveinterval\", \"55\")\n"
   ]
  },
  {
   "cell_type": "markdown",
   "metadata": {},
   "source": [
    "Вложенные секции разрешены."
   ]
  },
  {
   "cell_type": "markdown",
   "metadata": {},
   "source": [
    "Секции и значения можно удалять.\n",
    "\n",
    "В документации указано ещё много разных возможностей для работы."
   ]
  },
  {
   "cell_type": "code",
   "execution_count": 10,
   "metadata": {},
   "outputs": [
    {
     "data": {
      "text/plain": [
       "True"
      ]
     },
     "execution_count": 10,
     "metadata": {},
     "output_type": "execute_result"
    }
   ],
   "source": [
    "config.remove_option(\"DEFAULT\", \"serveraliveinterval\")"
   ]
  },
  {
   "cell_type": "markdown",
   "metadata": {},
   "source": [
    "## Ведение журнала (логов) средствами Python\n",
    "\n",
    "В библиотеке [logging](https://docs.python.org/3/library/logging.html) существует пять последовательных уровней логирования: DEBUG, INFO, WARNING, ERROR и CRITICAL. При создании журнала можно задать, начиная с какого уровля сообщения будут сохраняться в файл.\n",
    "\n",
    "Как всегда - всё самое вкусное на [Хабре](https://habr.com/ru/post/513966/)."
   ]
  },
  {
   "cell_type": "code",
   "execution_count": 1,
   "metadata": {},
   "outputs": [
    {
     "name": "stdout",
     "output_type": "stream",
     "text": [
      "rm: невозможно удалить 'data/sample.log': Нет такого файла или каталога\n"
     ]
    }
   ],
   "source": [
    "! rm data/sample.log"
   ]
  },
  {
   "cell_type": "code",
   "execution_count": 2,
   "metadata": {},
   "outputs": [],
   "source": [
    "import logging"
   ]
  },
  {
   "cell_type": "code",
   "execution_count": 3,
   "metadata": {},
   "outputs": [],
   "source": [
    "# add filemode=\"w\" to overwrite\n",
    "logging.basicConfig(filename=\"data/sample.log\", filemode=\"w\", level=logging.ERROR)\n",
    " \n",
    "logging.debug(\"This is a debug message\")\n",
    "logging.info(\"Informational message\")\n",
    "logging.error(\"An error has happened!\")"
   ]
  },
  {
   "cell_type": "markdown",
   "metadata": {},
   "source": [
    "Ниже видно, что сообщения ниже уровня INFO, установленного при создании объекта, не выводятся."
   ]
  },
  {
   "cell_type": "code",
   "execution_count": 4,
   "metadata": {},
   "outputs": [
    {
     "name": "stdout",
     "output_type": "stream",
     "text": [
      "ERROR:root:An error has happened!\n"
     ]
    }
   ],
   "source": [
    "%cat data/sample.log\n",
    "#!touch sample.log"
   ]
  },
  {
   "cell_type": "markdown",
   "metadata": {},
   "source": [
    "Можно заводить логи для отдельных модулей, потоков и пр., причем в выдаче будет указываться, что это за поток."
   ]
  },
  {
   "cell_type": "code",
   "execution_count": 5,
   "metadata": {},
   "outputs": [],
   "source": [
    "logger_main = logging.getLogger(__name__)\n",
    "logger_main.error(\"Something 1\")\n",
    "\n",
    "logger_ex = logging.getLogger(\"ex\")\n",
    "logger_ex.setLevel(logging.WARNING)\n",
    "logger_ex.error(\"Something 2\")"
   ]
  },
  {
   "cell_type": "code",
   "execution_count": 6,
   "metadata": {},
   "outputs": [
    {
     "name": "stdout",
     "output_type": "stream",
     "text": [
      "ERROR:root:An error has happened!\n",
      "ERROR:__main__:Something 1\n",
      "ERROR:ex:Something 2\n"
     ]
    }
   ],
   "source": [
    "%cat data/sample.log\n",
    "#!touch sample.log"
   ]
  },
  {
   "cell_type": "markdown",
   "metadata": {},
   "source": [
    "Можно задать формат выдачи для логов."
   ]
  },
  {
   "cell_type": "code",
   "execution_count": 7,
   "metadata": {},
   "outputs": [],
   "source": [
    "log_format = \"%(asctime)s - [%(levelname)s] - %(name)s - (%(filename)s).%(funcName)s(%(lineno)d) - %(message)s\"\n",
    "\n",
    "logging.root.handlers[0].setFormatter(logging.Formatter(log_format))"
   ]
  },
  {
   "cell_type": "code",
   "execution_count": 11,
   "metadata": {},
   "outputs": [],
   "source": [
    "logger_main.info(\"Test format 1\")\n",
    "logger_ex.error(\"Test format 2\")"
   ]
  },
  {
   "cell_type": "code",
   "execution_count": 12,
   "metadata": {},
   "outputs": [
    {
     "name": "stdout",
     "output_type": "stream",
     "text": [
      "ERROR:root:An error has happened!\n",
      "ERROR:__main__:Something 1\n",
      "ERROR:ex:Something 2\n",
      "2023-11-13 19:53:38,092 - [ERROR] - ex - (133175099.py).<module>(2) - Test format 2\n",
      "2023-11-13 19:54:34,512 - [ERROR] - ex - (2678928076.py).<module>(3) - Test format 2\n"
     ]
    }
   ],
   "source": [
    "%cat data/sample.log\n",
    "#!touch sample.log"
   ]
  },
  {
   "cell_type": "markdown",
   "metadata": {},
   "source": [
    "Можно закрыть поток с логами."
   ]
  },
  {
   "cell_type": "code",
   "execution_count": 13,
   "metadata": {},
   "outputs": [],
   "source": [
    "logging.root.handlers[0].close()"
   ]
  },
  {
   "cell_type": "markdown",
   "metadata": {},
   "source": [
    "## Логирование в формате docx\n",
    "\n",
    "При проведении экспериментов очень удобно сохранять их результаты в формате документов. Если автоматизировать этот процесс, можно гарантировать, что результаты не пропадут, а заодно и будет понятно на каких параметрах запускался эксперимент.\n",
    "\n",
    "В случае, если нам необходимо создавать журнал по шаблону, можно использовать библиотеку `docxtpl`. Для нее необходимо создать документ-шаблон, в котором указать в какое место будут добавляться определенные данные. Ниже приведен пример такого документа (это содержимое файла `data/template.docx`.\n",
    "```\n",
    "Первый текст: {{text1}}\n",
    "\n",
    "Второй текст: {{text2}}\n",
    "\n",
    "Косинусная мера сходства: {{cos_sim}}\n",
    "```\n",
    "\n",
    "В двойных фигурных скобках обозначаются названия параметров, которые необходимо подставить.\n",
    "\n",
    "Дальше библиотеке необходимо передать словарь, в котором ключами являются названия параметров, а значения должны быть подставлены в шаблон."
   ]
  },
  {
   "cell_type": "code",
   "execution_count": 15,
   "metadata": {},
   "outputs": [],
   "source": [
    "# Позволяет работать с такими шаблонами.\n",
    "from docxtpl import DocxTemplate\n",
    "# Превращает числа в слова.\n",
    "from num2words import num2words"
   ]
  },
  {
   "cell_type": "code",
   "execution_count": 16,
   "metadata": {},
   "outputs": [],
   "source": [
    "import datetime\n",
    "from sklearn.metrics.pairwise import cosine_similarity\n",
    "from sklearn.feature_extraction.text import CountVectorizer"
   ]
  },
  {
   "cell_type": "code",
   "execution_count": 17,
   "metadata": {},
   "outputs": [],
   "source": [
    "# Данные для сравнения\n",
    "with open(\"data/sebastopol.txt\", \"rt\") as infile:\n",
    "    text = infile.readlines()\n",
    "\n",
    "t1 = text[10]\n",
    "t2 = text[12]\n",
    "v1 = CountVectorizer().fit_transform([t1, t2])\n",
    "\n",
    "# Открываем шаблон.\n",
    "doc = DocxTemplate(\"data/template.docx\")\n",
    "# Формируем словарь с названиями параметров и значениями.\n",
    "context = {'text1' : t1, \n",
    "           'text2' : t2, \n",
    "           'cos_sim': cosine_similarity(v1[0], v1[1]),\n",
    "           'date': datetime.datetime.now().strftime(\"%Y-%m-%d\"),\n",
    "           'time': datetime.datetime.now().strftime(\"%H:%M:%S\")\n",
    "          }\n",
    "# Добавляем параметры в документ и сохраняем.\n",
    "doc.render(context)\n",
    "doc.save(f\"data/Протокол_1.docx\")"
   ]
  },
  {
   "cell_type": "markdown",
   "metadata": {},
   "source": [
    "Но иногда нам надо просто сформировать результаты в виде docx-файла. Для этого можно использовать библиотеку `docx`."
   ]
  },
  {
   "cell_type": "code",
   "execution_count": 18,
   "metadata": {},
   "outputs": [],
   "source": [
    "from docx import Document"
   ]
  },
  {
   "cell_type": "code",
   "execution_count": 19,
   "metadata": {},
   "outputs": [],
   "source": [
    "import numpy as np\n",
    "import matplotlib.pyplot as plt\n",
    "import seaborn as sns"
   ]
  },
  {
   "cell_type": "code",
   "execution_count": 20,
   "metadata": {},
   "outputs": [],
   "source": [
    "def save_picture_in_document(data, document) -> None:\n",
    "    fig = plt.figure()\n",
    "    ax = fig.add_subplot(111)\n",
    "    ax = sns.heatmap(data=data, ax=ax)\n",
    "    fig.savefig(\"tmp.png\")\n",
    "    p = document.add_paragraph()\n",
    "    r = p.add_run()\n",
    "    r.add_text(f'Some text')\n",
    "    p = document.add_paragraph()\n",
    "    r = p.add_run()\n",
    "    r.add_text(f'data placed here')\n",
    "    r.add_picture('tmp.png')\n",
    "    \n",
    "    \n",
    "    table = document.add_table(rows=data.shape[0], cols=data.shape[1])\n",
    "    for i in range(data.shape[0]):\n",
    "        for j in range(data.shape[1]):\n",
    "            table.cell(i, j).text = str(data[i, j])\n"
   ]
  },
  {
   "cell_type": "code",
   "execution_count": 21,
   "metadata": {},
   "outputs": [
    {
     "data": {
      "image/png": "[encoded data removed]",
      "text/plain": [
       "<Figure size 432x288 with 2 Axes>"
      ]
     },
     "metadata": {
      "needs_background": "light"
     },
     "output_type": "display_data"
    }
   ],
   "source": [
    "cosine_matrix = np.zeros((10, 10))\n",
    "vectors = CountVectorizer().fit_transform([t for t in text[10:20]])\n",
    "\n",
    "for i in range(10):\n",
    "    for j in range(10):\n",
    "        cosine_matrix[i][j] = cosine_similarity(vectors[i], vectors[j])\n",
    "        \n",
    "document = Document()\n",
    "save_picture_in_document(cosine_matrix, document)\n",
    "document.save('data/pictures_1.docx')"
   ]
  },
  {
   "cell_type": "code",
   "execution_count": null,
   "metadata": {},
   "outputs": [],
   "source": []
  }
 ],
 "metadata": {
  "kernelspec": {
   "display_name": "Python 3 (ipykernel)",
   "language": "python",
   "name": "python3"
  },
  "language_info": {
   "codemirror_mode": {
    "name": "ipython",
    "version": 3
   },
   "file_extension": ".py",
   "mimetype": "text/x-python",
   "name": "python",
   "nbconvert_exporter": "python",
   "pygments_lexer": "ipython3",
   "version": "3.10.12"
  }
 },
 "nbformat": 4,
 "nbformat_minor": 4
}
